{
  "nbformat": 4,
  "nbformat_minor": 0,
  "metadata": {
    "colab": {
      "name": "Untitled5.ipynb",
      "provenance": [],
      "collapsed_sections": [],
      "authorship_tag": "ABX9TyOfjqam7+CVrqKW9J2yDGp8",
      "include_colab_link": true
    },
    "kernelspec": {
      "name": "python3",
      "display_name": "Python 3"
    },
    "language_info": {
      "name": "python"
    }
  },
  "cells": [
    {
      "cell_type": "markdown",
      "metadata": {
        "id": "view-in-github",
        "colab_type": "text"
      },
      "source": [
        "<a href=\"https://colab.research.google.com/github/Thanash1/Readme.md/blob/main/Untitled5.ipynb\" target=\"_parent\"><img src=\"https://colab.research.google.com/assets/colab-badge.svg\" alt=\"Open In Colab\"/></a>"
      ]
    },
    {
      "cell_type": "code",
      "metadata": {
        "id": "FtAoNuB5Kuob"
      },
      "source": [
        "#Description:  This is a python program with monte carlo\n"
      ],
      "execution_count": null,
      "outputs": []
    },
    {
      "cell_type": "code",
      "metadata": {
        "id": "uaOGUaiBLEbA"
      },
      "source": [
        "#import the libraries\n",
        "from datetime import datetime\n",
        "import numpy as np\n",
        "import pandas as pd\n",
        "import pandas_datareader as web\n",
        "import matplotlib.pyplot as plt\n",
        "plt.style.use('fivethirtyeight')\n"
      ],
      "execution_count": 1,
      "outputs": []
    },
    {
      "cell_type": "code",
      "metadata": {
        "id": "ZMIRcrKKLzQa"
      },
      "source": [
        "#Get the stock symbols for the portfolio\n",
        "#FAANG\n",
        "stockSymbols = ['DPWRX','FCGAX','SDSCX','CBUZX','PCY','GSFTX','QUSOX']\n"
      ],
      "execution_count": 80,
      "outputs": []
    },
    {
      "cell_type": "code",
      "metadata": {
        "id": "oG_G_617MVPv"
      },
      "source": [
        "#Get the stock starting date\n",
        "stockStartDate = '2013-01-01'\n"
      ],
      "execution_count": 81,
      "outputs": []
    },
    {
      "cell_type": "code",
      "metadata": {
        "colab": {
          "base_uri": "https://localhost:8080/"
        },
        "id": "hdK3xbkfMueL",
        "outputId": "d7926bde-10f9-49ed-ea38-da12b3d1fa32"
      },
      "source": [
        "#Get todays date and format inthe form YYYY-mm-dd\n",
        "today = datetime.today().strftime('%Y-%m-%d')\n",
        "print(today)\n"
      ],
      "execution_count": 5,
      "outputs": [
        {
          "output_type": "stream",
          "text": [
            "2021-04-05\n"
          ],
          "name": "stdout"
        }
      ]
    },
    {
      "cell_type": "code",
      "metadata": {
        "colab": {
          "base_uri": "https://localhost:8080/"
        },
        "id": "X7AUYqk2NSya",
        "outputId": "fe318b5f-5b41-4050-a714-c1e9181d86bb"
      },
      "source": [
        "#Get the number of assets in the portfolio\n",
        "numAssets = len(stockSymbols)\n",
        "\n",
        "print('You have '+str(numAssets)+'assets in your portfolio.')\n"
      ],
      "execution_count": 82,
      "outputs": [
        {
          "output_type": "stream",
          "text": [
            "You have 7assets in your portfolio.\n"
          ],
          "name": "stdout"
        }
      ]
    },
    {
      "cell_type": "code",
      "metadata": {
        "id": "P5xikmknOitr"
      },
      "source": [
        "#Create a function to get the stock prices in the portfolio\n",
        "def getMyPortfolio(stocks= stockSymbols, start=stockStartDate, end=today, col='Adj Close'):\n",
        "  data = web.DataReader(stocks, data_source='yahoo', start=start, end=end)[col]\n",
        "  return data\n",
        "  "
      ],
      "execution_count": 83,
      "outputs": []
    },
    {
      "cell_type": "code",
      "metadata": {
        "colab": {
          "base_uri": "https://localhost:8080/",
          "height": 450
        },
        "id": "dwJESmzaPsxB",
        "outputId": "8320c4d2-bc5b-4096-883b-4377106906f3"
      },
      "source": [
        "#Get the stock portfolio Adj Clos price\n",
        "my_stocks = getMyPortfolio(stockSymbols)\n",
        "my_stocks\n"
      ],
      "execution_count": 84,
      "outputs": [
        {
          "output_type": "execute_result",
          "data": {
            "text/html": [
              "<div>\n",
              "<style scoped>\n",
              "    .dataframe tbody tr th:only-of-type {\n",
              "        vertical-align: middle;\n",
              "    }\n",
              "\n",
              "    .dataframe tbody tr th {\n",
              "        vertical-align: top;\n",
              "    }\n",
              "\n",
              "    .dataframe thead th {\n",
              "        text-align: right;\n",
              "    }\n",
              "</style>\n",
              "<table border=\"1\" class=\"dataframe\">\n",
              "  <thead>\n",
              "    <tr style=\"text-align: right;\">\n",
              "      <th>Symbols</th>\n",
              "      <th>DPWRX</th>\n",
              "      <th>FCGAX</th>\n",
              "      <th>SDSCX</th>\n",
              "      <th>CBUZX</th>\n",
              "      <th>PCY</th>\n",
              "      <th>GSFTX</th>\n",
              "      <th>QUSOX</th>\n",
              "    </tr>\n",
              "    <tr>\n",
              "      <th>Date</th>\n",
              "      <th></th>\n",
              "      <th></th>\n",
              "      <th></th>\n",
              "      <th></th>\n",
              "      <th></th>\n",
              "      <th></th>\n",
              "      <th></th>\n",
              "    </tr>\n",
              "  </thead>\n",
              "  <tbody>\n",
              "    <tr>\n",
              "      <th>2013-01-02</th>\n",
              "      <td>41.535511</td>\n",
              "      <td>49.112118</td>\n",
              "      <td>14.689229</td>\n",
              "      <td>8.606978</td>\n",
              "      <td>21.141090</td>\n",
              "      <td>12.752605</td>\n",
              "      <td>8.543669</td>\n",
              "    </tr>\n",
              "    <tr>\n",
              "      <th>2013-01-03</th>\n",
              "      <td>41.259785</td>\n",
              "      <td>49.064564</td>\n",
              "      <td>14.649768</td>\n",
              "      <td>8.599440</td>\n",
              "      <td>21.100857</td>\n",
              "      <td>12.735717</td>\n",
              "      <td>8.552290</td>\n",
              "    </tr>\n",
              "    <tr>\n",
              "      <th>2013-01-04</th>\n",
              "      <td>41.357624</td>\n",
              "      <td>49.254803</td>\n",
              "      <td>14.778014</td>\n",
              "      <td>8.614519</td>\n",
              "      <td>21.134390</td>\n",
              "      <td>12.786388</td>\n",
              "      <td>8.552290</td>\n",
              "    </tr>\n",
              "    <tr>\n",
              "      <th>2013-01-07</th>\n",
              "      <td>41.206425</td>\n",
              "      <td>49.188221</td>\n",
              "      <td>14.758285</td>\n",
              "      <td>8.614519</td>\n",
              "      <td>21.060629</td>\n",
              "      <td>12.744160</td>\n",
              "      <td>8.578154</td>\n",
              "    </tr>\n",
              "    <tr>\n",
              "      <th>2013-01-08</th>\n",
              "      <td>41.144165</td>\n",
              "      <td>49.093098</td>\n",
              "      <td>14.708959</td>\n",
              "      <td>8.599440</td>\n",
              "      <td>21.006992</td>\n",
              "      <td>12.701934</td>\n",
              "      <td>8.560911</td>\n",
              "    </tr>\n",
              "    <tr>\n",
              "      <th>...</th>\n",
              "      <td>...</td>\n",
              "      <td>...</td>\n",
              "      <td>...</td>\n",
              "      <td>...</td>\n",
              "      <td>...</td>\n",
              "      <td>...</td>\n",
              "      <td>...</td>\n",
              "    </tr>\n",
              "    <tr>\n",
              "      <th>2021-03-29</th>\n",
              "      <td>67.360001</td>\n",
              "      <td>137.759995</td>\n",
              "      <td>36.200001</td>\n",
              "      <td>13.210000</td>\n",
              "      <td>26.709999</td>\n",
              "      <td>28.139999</td>\n",
              "      <td>16.500000</td>\n",
              "    </tr>\n",
              "    <tr>\n",
              "      <th>2021-03-30</th>\n",
              "      <td>67.000000</td>\n",
              "      <td>137.029999</td>\n",
              "      <td>36.599998</td>\n",
              "      <td>13.220000</td>\n",
              "      <td>26.680000</td>\n",
              "      <td>28.020000</td>\n",
              "      <td>16.559999</td>\n",
              "    </tr>\n",
              "    <tr>\n",
              "      <th>2021-03-31</th>\n",
              "      <td>67.290001</td>\n",
              "      <td>138.550003</td>\n",
              "      <td>37.549999</td>\n",
              "      <td>13.240000</td>\n",
              "      <td>26.770000</td>\n",
              "      <td>27.990000</td>\n",
              "      <td>16.540001</td>\n",
              "    </tr>\n",
              "    <tr>\n",
              "      <th>2021-04-01</th>\n",
              "      <td>68.250000</td>\n",
              "      <td>140.649994</td>\n",
              "      <td>38.259998</td>\n",
              "      <td>13.300000</td>\n",
              "      <td>27.000000</td>\n",
              "      <td>28.250000</td>\n",
              "      <td>16.600000</td>\n",
              "    </tr>\n",
              "    <tr>\n",
              "      <th>2021-04-05</th>\n",
              "      <td>NaN</td>\n",
              "      <td>NaN</td>\n",
              "      <td>NaN</td>\n",
              "      <td>NaN</td>\n",
              "      <td>26.879999</td>\n",
              "      <td>NaN</td>\n",
              "      <td>NaN</td>\n",
              "    </tr>\n",
              "  </tbody>\n",
              "</table>\n",
              "<p>2078 rows × 7 columns</p>\n",
              "</div>"
            ],
            "text/plain": [
              "Symbols         DPWRX       FCGAX      SDSCX  ...        PCY      GSFTX      QUSOX\n",
              "Date                                          ...                                 \n",
              "2013-01-02  41.535511   49.112118  14.689229  ...  21.141090  12.752605   8.543669\n",
              "2013-01-03  41.259785   49.064564  14.649768  ...  21.100857  12.735717   8.552290\n",
              "2013-01-04  41.357624   49.254803  14.778014  ...  21.134390  12.786388   8.552290\n",
              "2013-01-07  41.206425   49.188221  14.758285  ...  21.060629  12.744160   8.578154\n",
              "2013-01-08  41.144165   49.093098  14.708959  ...  21.006992  12.701934   8.560911\n",
              "...               ...         ...        ...  ...        ...        ...        ...\n",
              "2021-03-29  67.360001  137.759995  36.200001  ...  26.709999  28.139999  16.500000\n",
              "2021-03-30  67.000000  137.029999  36.599998  ...  26.680000  28.020000  16.559999\n",
              "2021-03-31  67.290001  138.550003  37.549999  ...  26.770000  27.990000  16.540001\n",
              "2021-04-01  68.250000  140.649994  38.259998  ...  27.000000  28.250000  16.600000\n",
              "2021-04-05        NaN         NaN        NaN  ...  26.879999        NaN        NaN\n",
              "\n",
              "[2078 rows x 7 columns]"
            ]
          },
          "metadata": {
            "tags": []
          },
          "execution_count": 84
        }
      ]
    },
    {
      "cell_type": "code",
      "metadata": {
        "id": "Lhp5fn2SQRM0"
      },
      "source": [
        "#Create a function to visualize the portfolio\n",
        "def showGraph(stocks= stockSymbols, start=stockStartDate, end=today, col='Adj Close'):\n",
        "\n",
        "  #Create a title for the portfolio\n",
        "  title = 'Portfolio '+col+' Price History'\n",
        "\n",
        "  #Get the stocks\n",
        "  my_stocks = getMyPortfolio(stocks = stocks, start= start, end=end, col=col)\n",
        "\n",
        "  #Give the figure size\n",
        "  plt.figure(figsize=(12.2, 4.5))\n",
        "\n",
        "  #Loop through each stock and plot the price\n",
        "  for c in my_stocks.columns.values:\n",
        "    plt.plot(my_stocks[c], label =c)\n",
        "\n",
        "    plt.title(title)\n",
        "    plt.xlabel('Date', fontsize =14)\n",
        "    plt.ylabel(col+' Price USD ($)', fontsize=14)\n",
        "    plt.legend(my_stocks.columns.values, loc='upper left')\n",
        "    plt.show\n",
        "\n"
      ],
      "execution_count": 41,
      "outputs": []
    },
    {
      "cell_type": "code",
      "metadata": {
        "colab": {
          "base_uri": "https://localhost:8080/",
          "height": 324
        },
        "id": "OxMJ-oUZUM__",
        "outputId": "b52b398d-49c6-42ec-b7d8-129697bc1ba5"
      },
      "source": [
        "#Show them adjusted close price for FAANG\n",
        "showGraph(stockSymbols)\n"
      ],
      "execution_count": 85,
      "outputs": [
        {
          "output_type": "display_data",
          "data": {
            "image/png": "[encoded data removed]",
            "text/plain": [
              "<Figure size 878.4x324 with 1 Axes>"
            ]
          },
          "metadata": {
            "tags": [],
            "needs_background": "light"
          }
        }
      ]
    },
    {
      "cell_type": "code",
      "metadata": {
        "colab": {
          "base_uri": "https://localhost:8080/",
          "height": 450
        },
        "id": "yGB3-z_tU6wW",
        "outputId": "3bfced4c-ba34-4c72-b31e-1ae4cb58e51d"
      },
      "source": [
        "#Calculate the simple returns\n",
        "daily_simple_returns = my_stocks.pct_change(1)\n",
        "\n",
        "#Show the daily simple returns\n",
        "daily_simple_returns\n",
        "\n"
      ],
      "execution_count": 86,
      "outputs": [
        {
          "output_type": "execute_result",
          "data": {
            "text/html": [
              "<div>\n",
              "<style scoped>\n",
              "    .dataframe tbody tr th:only-of-type {\n",
              "        vertical-align: middle;\n",
              "    }\n",
              "\n",
              "    .dataframe tbody tr th {\n",
              "        vertical-align: top;\n",
              "    }\n",
              "\n",
              "    .dataframe thead th {\n",
              "        text-align: right;\n",
              "    }\n",
              "</style>\n",
              "<table border=\"1\" class=\"dataframe\">\n",
              "  <thead>\n",
              "    <tr style=\"text-align: right;\">\n",
              "      <th>Symbols</th>\n",
              "      <th>DPWRX</th>\n",
              "      <th>FCGAX</th>\n",
              "      <th>SDSCX</th>\n",
              "      <th>CBUZX</th>\n",
              "      <th>PCY</th>\n",
              "      <th>GSFTX</th>\n",
              "      <th>QUSOX</th>\n",
              "    </tr>\n",
              "    <tr>\n",
              "      <th>Date</th>\n",
              "      <th></th>\n",
              "      <th></th>\n",
              "      <th></th>\n",
              "      <th></th>\n",
              "      <th></th>\n",
              "      <th></th>\n",
              "      <th></th>\n",
              "    </tr>\n",
              "  </thead>\n",
              "  <tbody>\n",
              "    <tr>\n",
              "      <th>2013-01-02</th>\n",
              "      <td>NaN</td>\n",
              "      <td>NaN</td>\n",
              "      <td>NaN</td>\n",
              "      <td>NaN</td>\n",
              "      <td>NaN</td>\n",
              "      <td>NaN</td>\n",
              "      <td>NaN</td>\n",
              "    </tr>\n",
              "    <tr>\n",
              "      <th>2013-01-03</th>\n",
              "      <td>-0.006638</td>\n",
              "      <td>-0.000968</td>\n",
              "      <td>-0.002686</td>\n",
              "      <td>-0.000876</td>\n",
              "      <td>-0.001903</td>\n",
              "      <td>-0.001324</td>\n",
              "      <td>0.001009</td>\n",
              "    </tr>\n",
              "    <tr>\n",
              "      <th>2013-01-04</th>\n",
              "      <td>0.002371</td>\n",
              "      <td>0.003877</td>\n",
              "      <td>0.008754</td>\n",
              "      <td>0.001754</td>\n",
              "      <td>0.001589</td>\n",
              "      <td>0.003979</td>\n",
              "      <td>0.000000</td>\n",
              "    </tr>\n",
              "    <tr>\n",
              "      <th>2013-01-07</th>\n",
              "      <td>-0.003656</td>\n",
              "      <td>-0.001352</td>\n",
              "      <td>-0.001335</td>\n",
              "      <td>0.000000</td>\n",
              "      <td>-0.003490</td>\n",
              "      <td>-0.003303</td>\n",
              "      <td>0.003024</td>\n",
              "    </tr>\n",
              "    <tr>\n",
              "      <th>2013-01-08</th>\n",
              "      <td>-0.001511</td>\n",
              "      <td>-0.001934</td>\n",
              "      <td>-0.003342</td>\n",
              "      <td>-0.001750</td>\n",
              "      <td>-0.002547</td>\n",
              "      <td>-0.003313</td>\n",
              "      <td>-0.002010</td>\n",
              "    </tr>\n",
              "    <tr>\n",
              "      <th>...</th>\n",
              "      <td>...</td>\n",
              "      <td>...</td>\n",
              "      <td>...</td>\n",
              "      <td>...</td>\n",
              "      <td>...</td>\n",
              "      <td>...</td>\n",
              "      <td>...</td>\n",
              "    </tr>\n",
              "    <tr>\n",
              "      <th>2021-03-29</th>\n",
              "      <td>0.001487</td>\n",
              "      <td>-0.002895</td>\n",
              "      <td>-0.018970</td>\n",
              "      <td>-0.005271</td>\n",
              "      <td>-0.007801</td>\n",
              "      <td>-0.001419</td>\n",
              "      <td>0.000000</td>\n",
              "    </tr>\n",
              "    <tr>\n",
              "      <th>2021-03-30</th>\n",
              "      <td>-0.005344</td>\n",
              "      <td>-0.005299</td>\n",
              "      <td>0.011050</td>\n",
              "      <td>0.000757</td>\n",
              "      <td>-0.001123</td>\n",
              "      <td>-0.004264</td>\n",
              "      <td>0.003636</td>\n",
              "    </tr>\n",
              "    <tr>\n",
              "      <th>2021-03-31</th>\n",
              "      <td>0.004328</td>\n",
              "      <td>0.011092</td>\n",
              "      <td>0.025956</td>\n",
              "      <td>0.001513</td>\n",
              "      <td>0.003373</td>\n",
              "      <td>-0.001071</td>\n",
              "      <td>-0.001208</td>\n",
              "    </tr>\n",
              "    <tr>\n",
              "      <th>2021-04-01</th>\n",
              "      <td>0.014267</td>\n",
              "      <td>0.015157</td>\n",
              "      <td>0.018908</td>\n",
              "      <td>0.004532</td>\n",
              "      <td>0.008592</td>\n",
              "      <td>0.009289</td>\n",
              "      <td>0.003628</td>\n",
              "    </tr>\n",
              "    <tr>\n",
              "      <th>2021-04-05</th>\n",
              "      <td>0.000000</td>\n",
              "      <td>0.000000</td>\n",
              "      <td>0.000000</td>\n",
              "      <td>0.000000</td>\n",
              "      <td>-0.004444</td>\n",
              "      <td>0.000000</td>\n",
              "      <td>0.000000</td>\n",
              "    </tr>\n",
              "  </tbody>\n",
              "</table>\n",
              "<p>2078 rows × 7 columns</p>\n",
              "</div>"
            ],
            "text/plain": [
              "Symbols        DPWRX     FCGAX     SDSCX  ...       PCY     GSFTX     QUSOX\n",
              "Date                                      ...                              \n",
              "2013-01-02       NaN       NaN       NaN  ...       NaN       NaN       NaN\n",
              "2013-01-03 -0.006638 -0.000968 -0.002686  ... -0.001903 -0.001324  0.001009\n",
              "2013-01-04  0.002371  0.003877  0.008754  ...  0.001589  0.003979  0.000000\n",
              "2013-01-07 -0.003656 -0.001352 -0.001335  ... -0.003490 -0.003303  0.003024\n",
              "2013-01-08 -0.001511 -0.001934 -0.003342  ... -0.002547 -0.003313 -0.002010\n",
              "...              ...       ...       ...  ...       ...       ...       ...\n",
              "2021-03-29  0.001487 -0.002895 -0.018970  ... -0.007801 -0.001419  0.000000\n",
              "2021-03-30 -0.005344 -0.005299  0.011050  ... -0.001123 -0.004264  0.003636\n",
              "2021-03-31  0.004328  0.011092  0.025956  ...  0.003373 -0.001071 -0.001208\n",
              "2021-04-01  0.014267  0.015157  0.018908  ...  0.008592  0.009289  0.003628\n",
              "2021-04-05  0.000000  0.000000  0.000000  ... -0.004444  0.000000  0.000000\n",
              "\n",
              "[2078 rows x 7 columns]"
            ]
          },
          "metadata": {
            "tags": []
          },
          "execution_count": 86
        }
      ]
    },
    {
      "cell_type": "code",
      "metadata": {
        "colab": {
          "base_uri": "https://localhost:8080/",
          "height": 297
        },
        "id": "boggvfDKV36C",
        "outputId": "caa899c9-baa8-432a-e2ce-6201f220abe7"
      },
      "source": [
        "#Show the stock correlation\n",
        "daily_simple_returns.corr()\n"
      ],
      "execution_count": 87,
      "outputs": [
        {
          "output_type": "execute_result",
          "data": {
            "text/html": [
              "<div>\n",
              "<style scoped>\n",
              "    .dataframe tbody tr th:only-of-type {\n",
              "        vertical-align: middle;\n",
              "    }\n",
              "\n",
              "    .dataframe tbody tr th {\n",
              "        vertical-align: top;\n",
              "    }\n",
              "\n",
              "    .dataframe thead th {\n",
              "        text-align: right;\n",
              "    }\n",
              "</style>\n",
              "<table border=\"1\" class=\"dataframe\">\n",
              "  <thead>\n",
              "    <tr style=\"text-align: right;\">\n",
              "      <th>Symbols</th>\n",
              "      <th>DPWRX</th>\n",
              "      <th>FCGAX</th>\n",
              "      <th>SDSCX</th>\n",
              "      <th>CBUZX</th>\n",
              "      <th>PCY</th>\n",
              "      <th>GSFTX</th>\n",
              "      <th>QUSOX</th>\n",
              "    </tr>\n",
              "    <tr>\n",
              "      <th>Symbols</th>\n",
              "      <th></th>\n",
              "      <th></th>\n",
              "      <th></th>\n",
              "      <th></th>\n",
              "      <th></th>\n",
              "      <th></th>\n",
              "      <th></th>\n",
              "    </tr>\n",
              "  </thead>\n",
              "  <tbody>\n",
              "    <tr>\n",
              "      <th>DPWRX</th>\n",
              "      <td>1.000000</td>\n",
              "      <td>0.840963</td>\n",
              "      <td>0.709131</td>\n",
              "      <td>0.742459</td>\n",
              "      <td>0.521004</td>\n",
              "      <td>0.860339</td>\n",
              "      <td>0.420054</td>\n",
              "    </tr>\n",
              "    <tr>\n",
              "      <th>FCGAX</th>\n",
              "      <td>0.840963</td>\n",
              "      <td>1.000000</td>\n",
              "      <td>0.847018</td>\n",
              "      <td>0.782798</td>\n",
              "      <td>0.513292</td>\n",
              "      <td>0.895277</td>\n",
              "      <td>0.406357</td>\n",
              "    </tr>\n",
              "    <tr>\n",
              "      <th>SDSCX</th>\n",
              "      <td>0.709131</td>\n",
              "      <td>0.847018</td>\n",
              "      <td>1.000000</td>\n",
              "      <td>0.668318</td>\n",
              "      <td>0.445982</td>\n",
              "      <td>0.720675</td>\n",
              "      <td>0.355605</td>\n",
              "    </tr>\n",
              "    <tr>\n",
              "      <th>CBUZX</th>\n",
              "      <td>0.742459</td>\n",
              "      <td>0.782798</td>\n",
              "      <td>0.668318</td>\n",
              "      <td>1.000000</td>\n",
              "      <td>0.634666</td>\n",
              "      <td>0.825536</td>\n",
              "      <td>0.574087</td>\n",
              "    </tr>\n",
              "    <tr>\n",
              "      <th>PCY</th>\n",
              "      <td>0.521004</td>\n",
              "      <td>0.513292</td>\n",
              "      <td>0.445982</td>\n",
              "      <td>0.634666</td>\n",
              "      <td>1.000000</td>\n",
              "      <td>0.499025</td>\n",
              "      <td>0.451885</td>\n",
              "    </tr>\n",
              "    <tr>\n",
              "      <th>GSFTX</th>\n",
              "      <td>0.860339</td>\n",
              "      <td>0.895277</td>\n",
              "      <td>0.720675</td>\n",
              "      <td>0.825536</td>\n",
              "      <td>0.499025</td>\n",
              "      <td>1.000000</td>\n",
              "      <td>0.422345</td>\n",
              "    </tr>\n",
              "    <tr>\n",
              "      <th>QUSOX</th>\n",
              "      <td>0.420054</td>\n",
              "      <td>0.406357</td>\n",
              "      <td>0.355605</td>\n",
              "      <td>0.574087</td>\n",
              "      <td>0.451885</td>\n",
              "      <td>0.422345</td>\n",
              "      <td>1.000000</td>\n",
              "    </tr>\n",
              "  </tbody>\n",
              "</table>\n",
              "</div>"
            ],
            "text/plain": [
              "Symbols     DPWRX     FCGAX     SDSCX     CBUZX       PCY     GSFTX     QUSOX\n",
              "Symbols                                                                      \n",
              "DPWRX    1.000000  0.840963  0.709131  0.742459  0.521004  0.860339  0.420054\n",
              "FCGAX    0.840963  1.000000  0.847018  0.782798  0.513292  0.895277  0.406357\n",
              "SDSCX    0.709131  0.847018  1.000000  0.668318  0.445982  0.720675  0.355605\n",
              "CBUZX    0.742459  0.782798  0.668318  1.000000  0.634666  0.825536  0.574087\n",
              "PCY      0.521004  0.513292  0.445982  0.634666  1.000000  0.499025  0.451885\n",
              "GSFTX    0.860339  0.895277  0.720675  0.825536  0.499025  1.000000  0.422345\n",
              "QUSOX    0.420054  0.406357  0.355605  0.574087  0.451885  0.422345  1.000000"
            ]
          },
          "metadata": {
            "tags": []
          },
          "execution_count": 87
        }
      ]
    },
    {
      "cell_type": "code",
      "metadata": {
        "colab": {
          "base_uri": "https://localhost:8080/",
          "height": 297
        },
        "id": "Q7U9e0ivWLgi",
        "outputId": "9dd541ef-76c0-471b-cc5c-a72134bf84fe"
      },
      "source": [
        "#Show the covariance matrix for simple returns\n",
        "daily_simple_returns.cov()\n",
        "\n"
      ],
      "execution_count": 88,
      "outputs": [
        {
          "output_type": "execute_result",
          "data": {
            "text/html": [
              "<div>\n",
              "<style scoped>\n",
              "    .dataframe tbody tr th:only-of-type {\n",
              "        vertical-align: middle;\n",
              "    }\n",
              "\n",
              "    .dataframe tbody tr th {\n",
              "        vertical-align: top;\n",
              "    }\n",
              "\n",
              "    .dataframe thead th {\n",
              "        text-align: right;\n",
              "    }\n",
              "</style>\n",
              "<table border=\"1\" class=\"dataframe\">\n",
              "  <thead>\n",
              "    <tr style=\"text-align: right;\">\n",
              "      <th>Symbols</th>\n",
              "      <th>DPWRX</th>\n",
              "      <th>FCGAX</th>\n",
              "      <th>SDSCX</th>\n",
              "      <th>CBUZX</th>\n",
              "      <th>PCY</th>\n",
              "      <th>GSFTX</th>\n",
              "      <th>QUSOX</th>\n",
              "    </tr>\n",
              "    <tr>\n",
              "      <th>Symbols</th>\n",
              "      <th></th>\n",
              "      <th></th>\n",
              "      <th></th>\n",
              "      <th></th>\n",
              "      <th></th>\n",
              "      <th></th>\n",
              "      <th></th>\n",
              "    </tr>\n",
              "  </thead>\n",
              "  <tbody>\n",
              "    <tr>\n",
              "      <th>DPWRX</th>\n",
              "      <td>0.000120</td>\n",
              "      <td>0.000100</td>\n",
              "      <td>0.000107</td>\n",
              "      <td>0.000027</td>\n",
              "      <td>0.000040</td>\n",
              "      <td>0.000096</td>\n",
              "      <td>0.000037</td>\n",
              "    </tr>\n",
              "    <tr>\n",
              "      <th>FCGAX</th>\n",
              "      <td>0.000100</td>\n",
              "      <td>0.000119</td>\n",
              "      <td>0.000127</td>\n",
              "      <td>0.000028</td>\n",
              "      <td>0.000039</td>\n",
              "      <td>0.000100</td>\n",
              "      <td>0.000036</td>\n",
              "    </tr>\n",
              "    <tr>\n",
              "      <th>SDSCX</th>\n",
              "      <td>0.000107</td>\n",
              "      <td>0.000127</td>\n",
              "      <td>0.000190</td>\n",
              "      <td>0.000031</td>\n",
              "      <td>0.000043</td>\n",
              "      <td>0.000102</td>\n",
              "      <td>0.000040</td>\n",
              "    </tr>\n",
              "    <tr>\n",
              "      <th>CBUZX</th>\n",
              "      <td>0.000027</td>\n",
              "      <td>0.000028</td>\n",
              "      <td>0.000031</td>\n",
              "      <td>0.000011</td>\n",
              "      <td>0.000015</td>\n",
              "      <td>0.000028</td>\n",
              "      <td>0.000015</td>\n",
              "    </tr>\n",
              "    <tr>\n",
              "      <th>PCY</th>\n",
              "      <td>0.000040</td>\n",
              "      <td>0.000039</td>\n",
              "      <td>0.000043</td>\n",
              "      <td>0.000015</td>\n",
              "      <td>0.000048</td>\n",
              "      <td>0.000035</td>\n",
              "      <td>0.000025</td>\n",
              "    </tr>\n",
              "    <tr>\n",
              "      <th>GSFTX</th>\n",
              "      <td>0.000096</td>\n",
              "      <td>0.000100</td>\n",
              "      <td>0.000102</td>\n",
              "      <td>0.000028</td>\n",
              "      <td>0.000035</td>\n",
              "      <td>0.000104</td>\n",
              "      <td>0.000035</td>\n",
              "    </tr>\n",
              "    <tr>\n",
              "      <th>QUSOX</th>\n",
              "      <td>0.000037</td>\n",
              "      <td>0.000036</td>\n",
              "      <td>0.000040</td>\n",
              "      <td>0.000015</td>\n",
              "      <td>0.000025</td>\n",
              "      <td>0.000035</td>\n",
              "      <td>0.000066</td>\n",
              "    </tr>\n",
              "  </tbody>\n",
              "</table>\n",
              "</div>"
            ],
            "text/plain": [
              "Symbols     DPWRX     FCGAX     SDSCX     CBUZX       PCY     GSFTX     QUSOX\n",
              "Symbols                                                                      \n",
              "DPWRX    0.000120  0.000100  0.000107  0.000027  0.000040  0.000096  0.000037\n",
              "FCGAX    0.000100  0.000119  0.000127  0.000028  0.000039  0.000100  0.000036\n",
              "SDSCX    0.000107  0.000127  0.000190  0.000031  0.000043  0.000102  0.000040\n",
              "CBUZX    0.000027  0.000028  0.000031  0.000011  0.000015  0.000028  0.000015\n",
              "PCY      0.000040  0.000039  0.000043  0.000015  0.000048  0.000035  0.000025\n",
              "GSFTX    0.000096  0.000100  0.000102  0.000028  0.000035  0.000104  0.000035\n",
              "QUSOX    0.000037  0.000036  0.000040  0.000015  0.000025  0.000035  0.000066"
            ]
          },
          "metadata": {
            "tags": []
          },
          "execution_count": 88
        }
      ]
    },
    {
      "cell_type": "code",
      "metadata": {
        "colab": {
          "base_uri": "https://localhost:8080/"
        },
        "id": "CKStYxcRYNE1",
        "outputId": "805a3f30-4b55-4354-cbaf-5d5de2fdd17b"
      },
      "source": [
        "#Show the variance\n",
        "daily_simple_returns.var()\n",
        "\n"
      ],
      "execution_count": 89,
      "outputs": [
        {
          "output_type": "execute_result",
          "data": {
            "text/plain": [
              "Symbols\n",
              "DPWRX    0.000120\n",
              "FCGAX    0.000119\n",
              "SDSCX    0.000190\n",
              "CBUZX    0.000011\n",
              "PCY      0.000048\n",
              "GSFTX    0.000104\n",
              "QUSOX    0.000066\n",
              "dtype: float64"
            ]
          },
          "metadata": {
            "tags": []
          },
          "execution_count": 89
        }
      ]
    },
    {
      "cell_type": "code",
      "metadata": {
        "colab": {
          "base_uri": "https://localhost:8080/"
        },
        "id": "y6QG5uryYgc4",
        "outputId": "57bf094a-5874-452b-e8dd-9336e7c201b8"
      },
      "source": [
        "#Print the standard deviation for daily simple returns\n",
        "print(\"The Stock Volatility:\")\n",
        "daily_simple_returns.std()"
      ],
      "execution_count": 90,
      "outputs": [
        {
          "output_type": "stream",
          "text": [
            "The Stock Volatility:\n"
          ],
          "name": "stdout"
        },
        {
          "output_type": "execute_result",
          "data": {
            "text/plain": [
              "Symbols\n",
              "DPWRX    0.010970\n",
              "FCGAX    0.010892\n",
              "SDSCX    0.013788\n",
              "CBUZX    0.003313\n",
              "PCY      0.006936\n",
              "GSFTX    0.010216\n",
              "QUSOX    0.008122\n",
              "dtype: float64"
            ]
          },
          "metadata": {
            "tags": []
          },
          "execution_count": 90
        }
      ]
    },
    {
      "cell_type": "code",
      "metadata": {
        "colab": {
          "base_uri": "https://localhost:8080/",
          "height": 323
        },
        "id": "PSoxC65AWdn3",
        "outputId": "a87e31fb-180a-4bbf-9bb6-eb18d19d67c0"
      },
      "source": [
        "#Visualize the stocks daily simple returns /Volatility\n",
        "plt.figure(figsize=(12,4.5))\n",
        "\n",
        "#Loop through each stock and plot the simple returns\n",
        "for c in daily_simple_returns.columns.values:\n",
        "  plt.plot(daily_simple_returns[c], lw=2, label=c)\n",
        "\n",
        "#Create a legend\n",
        "plt.legend(loc='upper right', fontsize = 7)\n",
        "plt.title('Volatility')\n",
        "plt.ylabel('Daily Simple Returns')\n",
        "plt.xlabel('Date')\n",
        "plt.show()\n"
      ],
      "execution_count": 91,
      "outputs": [
        {
          "output_type": "display_data",
          "data": {
            "image/png": "[encoded data removed]",
            "text/plain": [
              "<Figure size 864x324 with 1 Axes>"
            ]
          },
          "metadata": {
            "tags": [],
            "needs_background": "light"
          }
        }
      ]
    },
    {
      "cell_type": "code",
      "metadata": {
        "colab": {
          "base_uri": "https://localhost:8080/"
        },
        "id": "XFHqQThncf2H",
        "outputId": "c056e42f-b85c-4c23-add7-6ac4ad033771"
      },
      "source": [
        "#Show the mean of the daily simple return\n",
        "dailyMeanSimpleReturns = daily_simple_returns.mean()\n",
        "\n",
        "#Print\n",
        "print(\"The daily mean simple return:\")\n",
        "print(dailyMeanSimpleReturns)\n"
      ],
      "execution_count": 92,
      "outputs": [
        {
          "output_type": "stream",
          "text": [
            "The daily mean simple return:\n",
            "Symbols\n",
            "DPWRX    0.000300\n",
            "FCGAX    0.000566\n",
            "SDSCX    0.000557\n",
            "CBUZX    0.000215\n",
            "PCY      0.000140\n",
            "GSFTX    0.000435\n",
            "QUSOX    0.000353\n",
            "dtype: float64\n"
          ],
          "name": "stdout"
        }
      ]
    },
    {
      "cell_type": "code",
      "metadata": {
        "id": "HZAc9eKjdQBB"
      },
      "source": [
        "#Calculate the expected portfolio daily return\n",
        "randomWeights = np.array([0.2,0.2,0.2,0.1,0.1,0.1,0.1]) \n",
        "\n",
        "portfolioSimpleReturn =np.sum(dailyMeanSimpleReturns * randomWeights)\n"
      ],
      "execution_count": 95,
      "outputs": []
    },
    {
      "cell_type": "code",
      "metadata": {
        "colab": {
          "base_uri": "https://localhost:8080/",
          "height": 248
        },
        "id": "m6T9Jh_xefm3",
        "outputId": "9ce80b92-5382-440a-f408-4e493153a3e2"
      },
      "source": [
        "#Visualize the daily cumulative simple returns\n",
        "\n",
        "plt.figure(figsize=(12.2, 4.5))\n",
        "for c in dailyCumulSimpleReturn.columns.values:\n",
        "  plt.plot(dailyCumulSimpleReturn.index, dailyCumulSimpleReturn[c], lw=2, label=c)\n",
        "\n",
        "plt.legend(loc= 'upper left', fontsize=8)\n",
        "plt.xlabel('Date')\n",
        "plt.ylabel('Growth of $1 investment')\n",
        "plt.show\n"
      ],
      "execution_count": 97,
      "outputs": [
        {
          "output_type": "error",
          "ename": "NameError",
          "evalue": "ignored",
          "traceback": [
            "\u001b[0;31m---------------------------------------------------------------------------\u001b[0m",
            "\u001b[0;31mNameError\u001b[0m                                 Traceback (most recent call last)",
            "\u001b[0;32m<ipython-input-97-80baed95f5e3>\u001b[0m in \u001b[0;36m<module>\u001b[0;34m()\u001b[0m\n\u001b[1;32m      2\u001b[0m \u001b[0;34m\u001b[0m\u001b[0m\n\u001b[1;32m      3\u001b[0m \u001b[0mplt\u001b[0m\u001b[0;34m.\u001b[0m\u001b[0mfigure\u001b[0m\u001b[0;34m(\u001b[0m\u001b[0mfigsize\u001b[0m\u001b[0;34m=\u001b[0m\u001b[0;34m(\u001b[0m\u001b[0;36m12.2\u001b[0m\u001b[0;34m,\u001b[0m \u001b[0;36m4.5\u001b[0m\u001b[0;34m)\u001b[0m\u001b[0;34m)\u001b[0m\u001b[0;34m\u001b[0m\u001b[0;34m\u001b[0m\u001b[0m\n\u001b[0;32m----> 4\u001b[0;31m \u001b[0;32mfor\u001b[0m \u001b[0mc\u001b[0m \u001b[0;32min\u001b[0m \u001b[0mdailyCumulSimpleReturn\u001b[0m\u001b[0;34m.\u001b[0m\u001b[0mcolumns\u001b[0m\u001b[0;34m.\u001b[0m\u001b[0mvalues\u001b[0m\u001b[0;34m:\u001b[0m\u001b[0;34m\u001b[0m\u001b[0;34m\u001b[0m\u001b[0m\n\u001b[0m\u001b[1;32m      5\u001b[0m   \u001b[0mplt\u001b[0m\u001b[0;34m.\u001b[0m\u001b[0mplot\u001b[0m\u001b[0;34m(\u001b[0m\u001b[0mdailyCumulSimpleReturn\u001b[0m\u001b[0;34m.\u001b[0m\u001b[0mindex\u001b[0m\u001b[0;34m,\u001b[0m \u001b[0mdailyCumulSimpleReturn\u001b[0m\u001b[0;34m[\u001b[0m\u001b[0mc\u001b[0m\u001b[0;34m]\u001b[0m\u001b[0;34m,\u001b[0m \u001b[0mlw\u001b[0m\u001b[0;34m=\u001b[0m\u001b[0;36m2\u001b[0m\u001b[0;34m,\u001b[0m \u001b[0mlabel\u001b[0m\u001b[0;34m=\u001b[0m\u001b[0mc\u001b[0m\u001b[0;34m)\u001b[0m\u001b[0;34m\u001b[0m\u001b[0;34m\u001b[0m\u001b[0m\n\u001b[1;32m      6\u001b[0m \u001b[0;34m\u001b[0m\u001b[0m\n",
            "\u001b[0;31mNameError\u001b[0m: name 'dailyCumulSimpleReturn' is not defined"
          ]
        },
        {
          "output_type": "display_data",
          "data": {
            "text/plain": [
              "<Figure size 878.4x324 with 0 Axes>"
            ]
          },
          "metadata": {
            "tags": []
          }
        }
      ]
    }
  ]
}